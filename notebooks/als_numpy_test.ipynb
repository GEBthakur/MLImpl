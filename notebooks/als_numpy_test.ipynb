{
 "cells": [
  {
   "cell_type": "code",
   "execution_count": 1,
   "metadata": {
    "vscode": {
     "languageId": "powershell"
    }
   },
   "outputs": [
    {
     "name": "stdout",
     "output_type": "stream",
     "text": [
      "/Users/ravithakur/Documents/Study/ML,DL Implementations/MLDL\n"
     ]
    },
    {
     "name": "stderr",
     "output_type": "stream",
     "text": [
      "/Users/ravithakur/Library/Caches/pypoetry/virtualenvs/mlimpl-TsLQh6uh-py3.12/lib/python3.12/site-packages/IPython/core/magics/osm.py:417: UserWarning: using dhist requires you to install the `pickleshare` library.\n",
      "  self.shell.db['dhist'] = compress_dhist(dhist)[-100:]\n"
     ]
    }
   ],
   "source": [
    "cd .."
   ]
  },
  {
   "cell_type": "code",
   "execution_count": 2,
   "metadata": {},
   "outputs": [],
   "source": [
    "from recommender_sys.als import ALSNumExpl\n",
    "import pandas as pd\n",
    "import numpy as np\n",
    "from tqdm import tqdm\n",
    "from scipy.sparse import csr_matrix\n",
    "from sklearn.preprocessing import MinMaxScaler\n",
    "import matplotlib.pyplot as plt\n",
    "import seaborn as sns"
   ]
  },
  {
   "cell_type": "code",
   "execution_count": 3,
   "metadata": {},
   "outputs": [
    {
     "data": {
      "text/html": [
       "<div>\n",
       "<style scoped>\n",
       "    .dataframe tbody tr th:only-of-type {\n",
       "        vertical-align: middle;\n",
       "    }\n",
       "\n",
       "    .dataframe tbody tr th {\n",
       "        vertical-align: top;\n",
       "    }\n",
       "\n",
       "    .dataframe thead th {\n",
       "        text-align: right;\n",
       "    }\n",
       "</style>\n",
       "<table border=\"1\" class=\"dataframe\">\n",
       "  <thead>\n",
       "    <tr style=\"text-align: right;\">\n",
       "      <th></th>\n",
       "      <th>userID</th>\n",
       "      <th>itemID</th>\n",
       "      <th>rating</th>\n",
       "      <th>timestamp</th>\n",
       "    </tr>\n",
       "  </thead>\n",
       "  <tbody>\n",
       "    <tr>\n",
       "      <th>0</th>\n",
       "      <td>196</td>\n",
       "      <td>242</td>\n",
       "      <td>3.0</td>\n",
       "      <td>881250949</td>\n",
       "    </tr>\n",
       "    <tr>\n",
       "      <th>1</th>\n",
       "      <td>186</td>\n",
       "      <td>302</td>\n",
       "      <td>3.0</td>\n",
       "      <td>891717742</td>\n",
       "    </tr>\n",
       "    <tr>\n",
       "      <th>2</th>\n",
       "      <td>22</td>\n",
       "      <td>377</td>\n",
       "      <td>1.0</td>\n",
       "      <td>878887116</td>\n",
       "    </tr>\n",
       "    <tr>\n",
       "      <th>3</th>\n",
       "      <td>244</td>\n",
       "      <td>51</td>\n",
       "      <td>2.0</td>\n",
       "      <td>880606923</td>\n",
       "    </tr>\n",
       "    <tr>\n",
       "      <th>4</th>\n",
       "      <td>166</td>\n",
       "      <td>346</td>\n",
       "      <td>1.0</td>\n",
       "      <td>886397596</td>\n",
       "    </tr>\n",
       "  </tbody>\n",
       "</table>\n",
       "</div>"
      ],
      "text/plain": [
       "   userID  itemID  rating  timestamp\n",
       "0     196     242     3.0  881250949\n",
       "1     186     302     3.0  891717742\n",
       "2      22     377     1.0  878887116\n",
       "3     244      51     2.0  880606923\n",
       "4     166     346     1.0  886397596"
      ]
     },
     "execution_count": 3,
     "metadata": {},
     "output_type": "execute_result"
    }
   ],
   "source": [
    "# import the dataset\n",
    "df = pd.read_csv('datasets/movielens100k.csv')\n",
    "df.head()"
   ]
  },
  {
   "cell_type": "code",
   "execution_count": 4,
   "metadata": {},
   "outputs": [
    {
     "data": {
      "text/html": [
       "<div>\n",
       "<style scoped>\n",
       "    .dataframe tbody tr th:only-of-type {\n",
       "        vertical-align: middle;\n",
       "    }\n",
       "\n",
       "    .dataframe tbody tr th {\n",
       "        vertical-align: top;\n",
       "    }\n",
       "\n",
       "    .dataframe thead th {\n",
       "        text-align: right;\n",
       "    }\n",
       "</style>\n",
       "<table border=\"1\" class=\"dataframe\">\n",
       "  <thead>\n",
       "    <tr style=\"text-align: right;\">\n",
       "      <th></th>\n",
       "      <th>userID</th>\n",
       "      <th>itemID</th>\n",
       "      <th>rating</th>\n",
       "      <th>timestamp</th>\n",
       "      <th>rating_scaled</th>\n",
       "    </tr>\n",
       "  </thead>\n",
       "  <tbody>\n",
       "    <tr>\n",
       "      <th>0</th>\n",
       "      <td>196</td>\n",
       "      <td>242</td>\n",
       "      <td>3.0</td>\n",
       "      <td>881250949</td>\n",
       "      <td>0.50</td>\n",
       "    </tr>\n",
       "    <tr>\n",
       "      <th>1</th>\n",
       "      <td>186</td>\n",
       "      <td>302</td>\n",
       "      <td>3.0</td>\n",
       "      <td>891717742</td>\n",
       "      <td>0.50</td>\n",
       "    </tr>\n",
       "    <tr>\n",
       "      <th>2</th>\n",
       "      <td>22</td>\n",
       "      <td>377</td>\n",
       "      <td>1.0</td>\n",
       "      <td>878887116</td>\n",
       "      <td>0.00</td>\n",
       "    </tr>\n",
       "    <tr>\n",
       "      <th>3</th>\n",
       "      <td>244</td>\n",
       "      <td>51</td>\n",
       "      <td>2.0</td>\n",
       "      <td>880606923</td>\n",
       "      <td>0.25</td>\n",
       "    </tr>\n",
       "    <tr>\n",
       "      <th>4</th>\n",
       "      <td>166</td>\n",
       "      <td>346</td>\n",
       "      <td>1.0</td>\n",
       "      <td>886397596</td>\n",
       "      <td>0.00</td>\n",
       "    </tr>\n",
       "  </tbody>\n",
       "</table>\n",
       "</div>"
      ],
      "text/plain": [
       "   userID  itemID  rating  timestamp  rating_scaled\n",
       "0     196     242     3.0  881250949           0.50\n",
       "1     186     302     3.0  891717742           0.50\n",
       "2      22     377     1.0  878887116           0.00\n",
       "3     244      51     2.0  880606923           0.25\n",
       "4     166     346     1.0  886397596           0.00"
      ]
     },
     "execution_count": 4,
     "metadata": {},
     "output_type": "execute_result"
    }
   ],
   "source": [
    "scaler = MinMaxScaler()\n",
    "\n",
    "# Fit and transform the 'rating' column\n",
    "df['rating_scaled'] = scaler.fit_transform(df[['rating']])\n",
    "df.head()"
   ]
  },
  {
   "cell_type": "code",
   "execution_count": 5,
   "metadata": {},
   "outputs": [],
   "source": [
    "ratings = csr_matrix((df.rating.values, (df.userID, df.itemID)))"
   ]
  },
  {
   "cell_type": "code",
   "execution_count": 26,
   "metadata": {},
   "outputs": [],
   "source": [
    "seed = 42\n",
    "np.random.seed(seed)"
   ]
  },
  {
   "cell_type": "code",
   "execution_count": 27,
   "metadata": {},
   "outputs": [],
   "source": [
    "ulf = np.random.rand(ratings.shape[0], 100)*0.001\n",
    "ilf = np.random.rand(ratings.shape[1], 100)*0.001\n",
    "\n",
    "regular = 0.01"
   ]
  },
  {
   "cell_type": "markdown",
   "metadata": {},
   "source": [
    "Now the main calculation\n",
    "\n",
    "$$\n",
    "\\begin{equation}\n",
    "    \\begin{aligned}\n",
    "        \\mathbf{u}_i &= (\\sum_{j=1}^m\\mathbf{v}_j\\mathbf{v}_j^T + \\lambda)^{-1}\\sum_{j=1}^mR_{ij}\\mathbf{v}_j \\\\\n",
    "        \\mathbf{v}_j &= (\\sum_{i=1}^n\\mathbf{u}_i\\mathbf{u}_i^T + \\lambda)^{-1}\\sum_{i=1}^n R_{ij}\\mathbf{u}_i\n",
    "    \\end{aligned}\n",
    "\\end{equation}\n",
    "$$\n",
    "\n",
    "Since the above requires the calculation of inverses of square matrices of size $k \\times k$, we would first prioritize calculating inverses of the matrix $\\sum_{j=1}^m\\mathbf{v}_j\\mathbf{v}_j^T + \\lambda$. We also need to figure out how to compute $\\mathbf{v}_j\\mathbf{v}_j^T$. The above equations can be written in the form of $\\mathbf{u}_i = \\mathbf{A}^{-1}\\mathbf{b}$ We compute the two separately"
   ]
  },
  {
   "cell_type": "code",
   "execution_count": 8,
   "metadata": {},
   "outputs": [],
   "source": [
    "# Computing vv^T square matrix\n",
    "\n",
    "\"\"\"\n",
    "uu^T = [u_1, u_2, u_3][u_1 \n",
    "                       u_2\n",
    "                       u_3]\n",
    "\"\"\"\n",
    "def A_inv(mat, regular):\n",
    "    uut = np.einsum('ij,ik->jk', mat, mat)\n",
    "    return np.linalg.inv(uut + regular*np.eye(uut.shape[0]))\n",
    "\n",
    "def get_B(ratings, lf_matrix, index, method='row'):\n",
    "    if method == 'col':\n",
    "        ratingW = ratings.getcol(index).A.flatten()\n",
    "    else:\n",
    "        ratingW = ratings.getrow(index).A[0]\n",
    "    return np.dot(ratingW, lf_matrix)\n"
   ]
  },
  {
   "cell_type": "markdown",
   "metadata": {},
   "source": [
    "Now we can create each step of the ALS inner iteration. Next we also want to store the losses in each iteration\n",
    "the overall loss can be the RMSE for the non-zero user-item ratings. The loss function is given as\n",
    "\n",
    "$$\n",
    "\\begin{equation*}\n",
    "\\begin{aligned}\n",
    "    L(\\mathbf{U}, \\mathbf{V}) &= \\frac{1}{2}\\sum_{(i,j) \\in \\mathbf{R}} (R_{ij} - \\mathbf{u}_i^T \\cdot \\mathbf{v}_j)^2 + \\frac{\\lambda}{2} \\left[\\sum_{i=1}^n ||\\mathbf{u}_i||_2^2 + \\sum_{j=1}^m ||\\mathbf{v}_j||_2^2\\right] \\\\\n",
    "    &= \\frac{1}{2}\\sum_{(i,j) \\in \\mathbf{R}} (R_{ij} - \\mathbf{u}_i^T \\cdot \\mathbf{v}_j)^2 + \\frac{\\lambda}{2} \\left[\\sum_{i=1}^n \\mathbf{u}_i^T \\cdot \\mathbf{u}_i + \\sum_{j=1}^m \\mathbf{v}_j^T \\cdot \\mathbf{v}_j \\right]\n",
    "\\end{aligned}\n",
    "\\end{equation*}\n",
    "$$\n"
   ]
  },
  {
   "cell_type": "code",
   "execution_count": 9,
   "metadata": {},
   "outputs": [],
   "source": [
    "rows, columns = ratings.nonzero()"
   ]
  },
  {
   "cell_type": "code",
   "execution_count": 10,
   "metadata": {},
   "outputs": [],
   "source": [
    "def loss_als(ratings, rows, columns, users, items, regular):\n",
    "    actual_ratings = ratings.data\n",
    "\n",
    "    # Compute predictions for all non-zero entries\n",
    "    predictions = np.sum(users[rows] * items[columns], axis=1)\n",
    "\n",
    "    # Calculate the squared differences\n",
    "    squared_diff = (actual_ratings - predictions)**2\n",
    "\n",
    "    # frobenius norm of user and item latent matrices\n",
    "    fro_user = np.linalg.norm(users, ord='fro')**2\n",
    "    fro_item = np.linalg.norm(items, ord='fro')**2\n",
    "\n",
    "    # Compute the loss\n",
    "    loss = 0.5*(np.sum(squared_diff) + regular*(fro_user + fro_item))\n",
    "    return loss\n",
    "\n"
   ]
  },
  {
   "cell_type": "code",
   "execution_count": 11,
   "metadata": {},
   "outputs": [
    {
     "data": {
      "text/plain": [
       "686343.1899860945"
      ]
     },
     "execution_count": 11,
     "metadata": {},
     "output_type": "execute_result"
    }
   ],
   "source": [
    "loss_als(ratings, rows, columns, ulf, ilf, regular)"
   ]
  },
  {
   "cell_type": "markdown",
   "metadata": {},
   "source": [
    "TODO\n",
    "\n",
    "1. Optimize Single outer iteration - updations of user and item matrices\n",
    "2. Setup, Run and Analyse results on pyspark ALS."
   ]
  },
  {
   "cell_type": "code",
   "execution_count": 28,
   "metadata": {},
   "outputs": [
    {
     "name": "stderr",
     "output_type": "stream",
     "text": [
      "100%|██████████| 100/100 [00:12<00:00,  8.03it/s]\n"
     ]
    }
   ],
   "source": [
    "# Optimizing single outer iteration\n",
    "\n",
    "losses = []\n",
    "regular = 0.01\n",
    "rows, columns = ratings.nonzero()\n",
    "\n",
    "for iteration in tqdm(range(100)):\n",
    "    # first update user matrix\n",
    "    a_inv = A_inv(ilf, regular)\n",
    "    B = ratings.dot(ilf)\n",
    "    ulf = B @ a_inv.T\n",
    "    \n",
    "    # update item matrix\n",
    "    a_inv = A_inv(ulf, regular)\n",
    "    B = ratings.transpose().dot(ulf)\n",
    "    ilf = B @ a_inv.T\n",
    "\n",
    "    iteration_loss = loss_als(ratings, rows, columns, ulf, ilf, regular)\n",
    "    losses.append(iteration_loss)"
   ]
  },
  {
   "cell_type": "code",
   "execution_count": 29,
   "metadata": {},
   "outputs": [
    {
     "data": {
      "image/png": "[encoded data removed]",
      "text/plain": [
       "<Figure size 1000x800 with 1 Axes>"
      ]
     },
     "metadata": {},
     "output_type": "display_data"
    }
   ],
   "source": [
    "# Let's try to plot the predicted and actual ratings\n",
    "actual_ratings = ratings.data\n",
    "predictions = np.sum(ulf[rows] * ilf[columns], axis=1)\n",
    "\n",
    "plt.figure(figsize=(10,8))\n",
    "# plt.scatter(actual_ratings[:1000], predictions[:1000], alpha=0.3)\n",
    "sns.boxplot(x=actual_ratings, y=predictions)\n",
    "plt.show()"
   ]
  },
  {
   "cell_type": "code",
   "execution_count": 17,
   "metadata": {},
   "outputs": [
    {
     "name": "stderr",
     "output_type": "stream",
     "text": [
      "100%|██████████| 100/100 [00:11<00:00,  8.43it/s]\n"
     ]
    }
   ],
   "source": [
    "# Next we test the implemented module\n",
    "\n",
    "als = ALSNumExpl(ratings=ratings, factors=100, regularization=0.01, seed=42)\n",
    "als_losses = als.fit(iterations=100)"
   ]
  },
  {
   "cell_type": "code",
   "execution_count": 15,
   "metadata": {},
   "outputs": [
    {
     "data": {
      "image/png": "[encoded data removed]",
      "text/plain": [
       "<Figure size 1000x800 with 1 Axes>"
      ]
     },
     "metadata": {},
     "output_type": "display_data"
    }
   ],
   "source": [
    "actual_ratings = als.ratings.data\n",
    "rows, columns = als.ratings.nonzero()\n",
    "predictions = np.sum(als.ulf[rows] * als.ilf[columns], axis=1)\n",
    "\n",
    "plt.figure(figsize=(10,8))\n",
    "sns.boxplot(x=actual_ratings, y=predictions)\n",
    "plt.show()"
   ]
  },
  {
   "cell_type": "code",
   "execution_count": 31,
   "metadata": {},
   "outputs": [
    {
     "data": {
      "text/plain": [
       "True"
      ]
     },
     "execution_count": 31,
     "metadata": {},
     "output_type": "execute_result"
    }
   ],
   "source": [
    "losses[0] == als_losses[1]"
   ]
  },
  {
   "cell_type": "code",
   "execution_count": 32,
   "metadata": {},
   "outputs": [
    {
     "data": {
      "text/plain": [
       "True"
      ]
     },
     "execution_count": 32,
     "metadata": {},
     "output_type": "execute_result"
    }
   ],
   "source": [
    "losses[-1] == als_losses[-1]"
   ]
  },
  {
   "cell_type": "code",
   "execution_count": null,
   "metadata": {},
   "outputs": [],
   "source": []
  }
 ],
 "metadata": {
  "kernelspec": {
   "display_name": "mlimpl-TsLQh6uh-py3.12",
   "language": "python",
   "name": "python3"
  },
  "language_info": {
   "codemirror_mode": {
    "name": "ipython",
    "version": 3
   },
   "file_extension": ".py",
   "mimetype": "text/x-python",
   "name": "python",
   "nbconvert_exporter": "python",
   "pygments_lexer": "ipython3",
   "version": "3.12.3"
  }
 },
 "nbformat": 4,
 "nbformat_minor": 2
}
